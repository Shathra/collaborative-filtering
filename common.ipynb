{
 "cells": [
  {
   "cell_type": "code",
   "execution_count": 34,
   "metadata": {},
   "outputs": [],
   "source": [
    "import pandas as pd\n",
    "import numpy as np\n",
    "from scipy.sparse import csr_matrix"
   ]
  },
  {
   "cell_type": "code",
   "execution_count": 11,
   "metadata": {},
   "outputs": [
    {
     "data": {
      "text/html": [
       "<div>\n",
       "<style scoped>\n",
       "    .dataframe tbody tr th:only-of-type {\n",
       "        vertical-align: middle;\n",
       "    }\n",
       "\n",
       "    .dataframe tbody tr th {\n",
       "        vertical-align: top;\n",
       "    }\n",
       "\n",
       "    .dataframe thead th {\n",
       "        text-align: right;\n",
       "    }\n",
       "</style>\n",
       "<table border=\"1\" class=\"dataframe\">\n",
       "  <thead>\n",
       "    <tr style=\"text-align: right;\">\n",
       "      <th></th>\n",
       "      <th>userId</th>\n",
       "      <th>movieId</th>\n",
       "      <th>rating</th>\n",
       "      <th>timestamp</th>\n",
       "    </tr>\n",
       "  </thead>\n",
       "  <tbody>\n",
       "    <tr>\n",
       "      <th>0</th>\n",
       "      <td>1</td>\n",
       "      <td>31</td>\n",
       "      <td>2.5</td>\n",
       "      <td>1260759144</td>\n",
       "    </tr>\n",
       "    <tr>\n",
       "      <th>1</th>\n",
       "      <td>1</td>\n",
       "      <td>1029</td>\n",
       "      <td>3.0</td>\n",
       "      <td>1260759179</td>\n",
       "    </tr>\n",
       "    <tr>\n",
       "      <th>2</th>\n",
       "      <td>1</td>\n",
       "      <td>1061</td>\n",
       "      <td>3.0</td>\n",
       "      <td>1260759182</td>\n",
       "    </tr>\n",
       "    <tr>\n",
       "      <th>3</th>\n",
       "      <td>1</td>\n",
       "      <td>1129</td>\n",
       "      <td>2.0</td>\n",
       "      <td>1260759185</td>\n",
       "    </tr>\n",
       "    <tr>\n",
       "      <th>4</th>\n",
       "      <td>1</td>\n",
       "      <td>1172</td>\n",
       "      <td>4.0</td>\n",
       "      <td>1260759205</td>\n",
       "    </tr>\n",
       "  </tbody>\n",
       "</table>\n",
       "</div>"
      ],
      "text/plain": [
       "   userId  movieId  rating   timestamp\n",
       "0       1       31     2.5  1260759144\n",
       "1       1     1029     3.0  1260759179\n",
       "2       1     1061     3.0  1260759182\n",
       "3       1     1129     2.0  1260759185\n",
       "4       1     1172     4.0  1260759205"
      ]
     },
     "execution_count": 11,
     "metadata": {},
     "output_type": "execute_result"
    }
   ],
   "source": [
    "data_filepath = \"data/ratings.csv\"\n",
    "\n",
    "df = pd.read_csv(data_filepath)\n",
    "df.head()"
   ]
  },
  {
   "cell_type": "code",
   "execution_count": 15,
   "metadata": {},
   "outputs": [
    {
     "name": "stdout",
     "output_type": "stream",
     "text": [
      "(100004,)\n",
      "1\n",
      "671\n",
      "(671,)\n"
     ]
    }
   ],
   "source": [
    "user_arr = df[\"userId\"].values\n",
    "print(user_arr.shape)\n",
    "print(min(user_arr))\n",
    "print(max(user_arr))\n",
    "user_arr = np.unique(user_arr)\n",
    "print(user_arr.shape)\n",
    "\n",
    "# User ids are ordered and consecutive starting from 1"
   ]
  },
  {
   "cell_type": "code",
   "execution_count": 18,
   "metadata": {},
   "outputs": [
    {
     "name": "stdout",
     "output_type": "stream",
     "text": [
      "(100004,)\n",
      "1\n",
      "163949\n",
      "(9066,)\n",
      "[     1      2      3 ... 162542 162672 163949]\n"
     ]
    }
   ],
   "source": [
    "movie_arr = df[\"movieId\"].values\n",
    "print(movie_arr.shape)\n",
    "print(min(movie_arr))\n",
    "print(max(movie_arr))\n",
    "movie_arr = np.unique(movie_arr)\n",
    "print(movie_arr.shape)\n",
    "# Movie Ids are problematic"
   ]
  },
  {
   "cell_type": "code",
   "execution_count": 33,
   "metadata": {},
   "outputs": [
    {
     "data": {
      "text/plain": [
       "5.0"
      ]
     },
     "execution_count": 33,
     "metadata": {},
     "output_type": "execute_result"
    }
   ],
   "source": [
    "df[\"rating\"].values.max()"
   ]
  },
  {
   "cell_type": "code",
   "execution_count": 23,
   "metadata": {},
   "outputs": [
    {
     "name": "stdout",
     "output_type": "stream",
     "text": [
      "(163950,)\n",
      "(9066,)\n"
     ]
    },
    {
     "data": {
      "text/plain": [
       "array([   0,    0,    1, ...,    0,    0, 9065])"
      ]
     },
     "execution_count": 23,
     "metadata": {},
     "output_type": "execute_result"
    }
   ],
   "source": [
    "movie_id_to_order = np.zeros(movie_arr.max() + 1, dtype=int)\n",
    "movie_id_to_order[movie_arr] = range(movie_arr.shape[0])"
   ]
  },
  {
   "cell_type": "code",
   "execution_count": 46,
   "metadata": {},
   "outputs": [
    {
     "name": "stderr",
     "output_type": "stream",
     "text": [
      "/Users/shathra/Desktop/workspace/env/lib/python3.6/site-packages/scipy/sparse/compressed.py:742: SparseEfficiencyWarning: Changing the sparsity structure of a csr_matrix is expensive. lil_matrix is more efficient.\n",
      "  SparseEfficiencyWarning)\n"
     ]
    },
    {
     "name": "stdout",
     "output_type": "stream",
     "text": [
      "  (0, 30)\t2.5\n",
      "  (0, 833)\t3.0\n",
      "  (0, 859)\t3.0\n",
      "  (0, 906)\t2.0\n",
      "  (0, 931)\t4.0\n",
      "  (0, 1017)\t2.0\n",
      "  (0, 1041)\t2.0\n",
      "  (0, 1047)\t2.0\n",
      "  (0, 1083)\t3.5\n",
      "  (0, 1087)\t2.0\n",
      "  (0, 1111)\t2.5\n",
      "  (0, 1140)\t1.0\n",
      "  (0, 1515)\t4.0\n",
      "  (0, 1665)\t4.0\n",
      "  (0, 1708)\t3.0\n",
      "  (0, 1743)\t2.0\n",
      "  (0, 1815)\t2.0\n",
      "  (0, 1962)\t2.5\n",
      "  (0, 2380)\t1.0\n",
      "  (0, 2925)\t3.0\n",
      "  (1, 9)\t4.0\n",
      "  (1, 16)\t5.0\n",
      "  (1, 37)\t5.0\n",
      "  (1, 45)\t4.0\n",
      "  (1, 48)\t4.0\n",
      "  :\t:\n",
      "  (670, 3810)\t5.0\n",
      "  (670, 3845)\t4.5\n",
      "  (670, 3854)\t4.5\n",
      "  (670, 3869)\t5.0\n",
      "  (670, 3871)\t4.0\n",
      "  (670, 3882)\t2.0\n",
      "  (670, 3999)\t2.0\n",
      "  (670, 4051)\t3.0\n",
      "  (670, 4081)\t4.0\n",
      "  (670, 4098)\t4.0\n",
      "  (670, 4135)\t4.5\n",
      "  (670, 4147)\t3.0\n",
      "  (670, 4255)\t4.0\n",
      "  (670, 4321)\t4.0\n",
      "  (670, 4367)\t3.5\n",
      "  (670, 4391)\t5.0\n",
      "  (670, 4412)\t4.0\n",
      "  (670, 4413)\t4.5\n",
      "  (670, 4417)\t4.0\n",
      "  (670, 4507)\t2.5\n",
      "  (670, 4545)\t2.5\n",
      "  (670, 4546)\t4.0\n",
      "  (670, 4597)\t4.0\n",
      "  (670, 4610)\t2.5\n",
      "  (670, 4696)\t3.5\n"
     ]
    }
   ],
   "source": [
    "no_of_user = user_arr.shape[0]\n",
    "no_of_item = movie_arr.shape[0]\n",
    "user_item_matrix = csr_matrix((no_of_user, no_of_item))\n",
    "df_by_user = df.groupby(\"userId\")\n",
    "for user_id, group in df_by_user:\n",
    "  user_item_matrix[user_id - 1, movie_id_to_order[group.movieId.values]] = group.rating.values\n",
    "  \n",
    "print(user_item_matrix)"
   ]
  },
  {
   "cell_type": "code",
   "execution_count": 55,
   "metadata": {},
   "outputs": [
    {
     "data": {
      "image/png": "[encoded data removed]",
      "text/plain": [
       "<Figure size 720x720 with 1 Axes>"
      ]
     },
     "metadata": {},
     "output_type": "display_data"
    }
   ],
   "source": [
    "import matplotlib.pyplot as plt\n",
    "plt.rcParams[\"figure.figsize\"] = (10, 10)\n",
    "plt.spy(user_item_matrix.todense())\n",
    "plt.show()"
   ]
  },
  {
   "cell_type": "code",
   "execution_count": 58,
   "metadata": {},
   "outputs": [
    {
     "name": "stdout",
     "output_type": "stream",
     "text": [
      "  (0, 30)\t2.5\n",
      "  (0, 833)\t3.0\n",
      "  (0, 859)\t3.0\n",
      "  (0, 906)\t2.0\n",
      "  (0, 931)\t4.0\n",
      "  (0, 1017)\t2.0\n",
      "  (0, 1041)\t2.0\n",
      "  (0, 1047)\t2.0\n",
      "  (0, 1083)\t3.5\n",
      "  (0, 1087)\t2.0\n",
      "  (0, 1111)\t2.5\n",
      "  (0, 1140)\t1.0\n",
      "  (0, 1515)\t4.0\n",
      "  (0, 1665)\t4.0\n",
      "  (0, 1708)\t3.0\n",
      "  (0, 1743)\t2.0\n",
      "  (0, 1815)\t2.0\n",
      "  (0, 1962)\t2.5\n",
      "  (0, 2380)\t1.0\n",
      "  (0, 2925)\t3.0\n",
      "  (1, 9)\t4.0\n",
      "  (1, 16)\t5.0\n",
      "  (1, 37)\t5.0\n",
      "  (1, 45)\t4.0\n",
      "  (1, 48)\t4.0\n",
      "  :\t:\n",
      "  (670, 3810)\t5.0\n",
      "  (670, 3845)\t4.5\n",
      "  (670, 3854)\t4.5\n",
      "  (670, 3869)\t5.0\n",
      "  (670, 3871)\t4.0\n",
      "  (670, 3882)\t2.0\n",
      "  (670, 3999)\t2.0\n",
      "  (670, 4051)\t3.0\n",
      "  (670, 4081)\t4.0\n",
      "  (670, 4098)\t4.0\n",
      "  (670, 4135)\t4.5\n",
      "  (670, 4147)\t3.0\n",
      "  (670, 4255)\t4.0\n",
      "  (670, 4321)\t4.0\n",
      "  (670, 4367)\t3.5\n",
      "  (670, 4391)\t5.0\n",
      "  (670, 4412)\t4.0\n",
      "  (670, 4413)\t4.5\n",
      "  (670, 4417)\t4.0\n",
      "  (670, 4507)\t2.5\n",
      "  (670, 4545)\t2.5\n",
      "  (670, 4546)\t4.0\n",
      "  (670, 4597)\t4.0\n",
      "  (670, 4610)\t2.5\n",
      "  (670, 4696)\t3.5\n"
     ]
    }
   ],
   "source": [
    "import scipy.sparse\n",
    "\n",
    "matrix = scipy.sparse.load_npz(\"user_item_matrix.npz\")\n",
    "print(matrix)"
   ]
  }
 ],
 "metadata": {
  "kernelspec": {
   "display_name": "Python 3",
   "language": "python",
   "name": "python3"
  },
  "language_info": {
   "codemirror_mode": {
    "name": "ipython",
    "version": 3
   },
   "file_extension": ".py",
   "mimetype": "text/x-python",
   "name": "python",
   "nbconvert_exporter": "python",
   "pygments_lexer": "ipython3",
   "version": "3.6.5"
  }
 },
 "nbformat": 4,
 "nbformat_minor": 2
}
