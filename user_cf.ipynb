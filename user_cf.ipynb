{
 "cells": [
  {
   "cell_type": "code",
   "execution_count": 9,
   "metadata": {},
   "outputs": [],
   "source": [
    "import random\n",
    "import numpy as np\n",
    "import scipy.sparse\n",
    "from scipy.spatial.distance import cosine as cos_distance"
   ]
  },
  {
   "cell_type": "code",
   "execution_count": 2,
   "metadata": {},
   "outputs": [],
   "source": [
    "input_filepath = \"user_item_matrix_normalized.npz\"\n",
    "\n",
    "M = scipy.sparse.load_npz(input_filepath)\n",
    "M = M.todense() # Not good but easy to use"
   ]
  },
  {
   "cell_type": "code",
   "execution_count": 3,
   "metadata": {},
   "outputs": [],
   "source": [
    "def cos_similarity(u, v):\n",
    "    return 1 - cos_distance(u, v)\n",
    "\n",
    "def predict(user_id, item_id):\n",
    "    item_mask = np.arange(M.shape[1]) != item_id\n",
    "    user_mask = np.arange(M.shape[0]) != user_id\n",
    "    M_excluded = M[user_mask, :][:, item_mask]\n",
    "    user_vect = M[user_id, item_mask]\n",
    "    \n",
    "    total_similarity = 0\n",
    "    total_score = 0\n",
    "    for counter, u in enumerate(M_excluded):\n",
    "        similarity = cos_similarity(u, user_vect)\n",
    "        total_score += M[counter, item_id] * similarity\n",
    "        total_similarity += similarity\n",
    "    return total_score / total_similarity"
   ]
  },
  {
   "cell_type": "code",
   "execution_count": 18,
   "metadata": {},
   "outputs": [
    {
     "name": "stdout",
     "output_type": "stream",
     "text": [
      "MAE : 0.5122371276096263\n"
     ]
    }
   ],
   "source": [
    "# MAE is not a good evaluation technique for this model\n",
    "# Since the matrix is very sparse and it is unlikely for similar users to watch the same movies,\n",
    "# the model cannot give strong scores\n",
    "# The model is good to recommend a movie (max of prediction vector) but it is not very clever to predict\n",
    "# original scores. That's why MAE is around 0.5.\n",
    "\n",
    "sample_size = 200\n",
    "\n",
    "row_idx, col_idx = M.nonzero()\n",
    "total_error = 0\n",
    "sample_set = list(zip(row_idx, col_idx))\n",
    "random.shuffle(sample_set)\n",
    "sample_set = sample_set[:sample_size]\n",
    "for row, col in sample_set:\n",
    "    true_score = M[row, col]\n",
    "    estimated_score = predict(row, col)\n",
    "    total_error += abs(true_score - estimated_score)\n",
    "MAE = total_error / sample_size\n",
    "print(\"MAE : %s\" % MAE)"
   ]
  }
 ],
 "metadata": {
  "kernelspec": {
   "display_name": "Python 3",
   "language": "python",
   "name": "python3"
  },
  "language_info": {
   "codemirror_mode": {
    "name": "ipython",
    "version": 3
   },
   "file_extension": ".py",
   "mimetype": "text/x-python",
   "name": "python",
   "nbconvert_exporter": "python",
   "pygments_lexer": "ipython3",
   "version": "3.6.5"
  }
 },
 "nbformat": 4,
 "nbformat_minor": 2
}
